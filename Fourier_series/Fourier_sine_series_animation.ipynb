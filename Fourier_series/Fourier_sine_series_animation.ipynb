{
 "cells": [
  {
   "cell_type": "markdown",
   "metadata": {},
   "source": [
    "# Animation of the Fourier sine series in Jupyter\n",
    "\n",
    "Set up the environment\n",
    "\n",
    "Todo:\n",
    "- Axis labels and ticks"
   ]
  },
  {
   "cell_type": "code",
   "execution_count": null,
   "metadata": {
    "tags": []
   },
   "outputs": [],
   "source": [
    "%matplotlib inline"
   ]
  },
  {
   "cell_type": "code",
   "execution_count": null,
   "metadata": {
    "tags": []
   },
   "outputs": [],
   "source": [
    "import numpy as np\n",
    "import matplotlib.pyplot as plt\n",
    "import matplotlib.patches as patches\n",
    "\n",
    "from matplotlib import animation, rc\n",
    "from IPython.display import HTML\n",
    "\n",
    "import matplotlib\n",
    "matplotlib.rcParams['animation.embed_limit'] = 2**128"
   ]
  },
  {
   "cell_type": "markdown",
   "metadata": {},
   "source": [
    "## Creating the Animation\n",
    "First set up the figure, the axis, and the plot element we want to animate:"
   ]
  },
  {
   "cell_type": "code",
   "execution_count": null,
   "metadata": {
    "tags": []
   },
   "outputs": [],
   "source": [
    "fig = plt.figure()\n",
    "ax1 = plt.axes()\n",
    "line, = ax1.plot([], [], lw=2)\n",
    "plt.xlabel('x')\n",
    "plt.ylabel('y')\n",
    "\n",
    "ax1.set_xlim((-3.5, 10))\n",
    "ax1.set_ylim((-3, 3.5))\n",
    "\n",
    "plotlays, plotcols = [5], [\"black\", \"red\", \"cyan\", \"blue\", \"magenta\"]\n",
    "\n",
    "l_width = [2, 2, 1, 2, 1]\n",
    "lines = []\n",
    "for index in range(5):\n",
    "    lobj = ax1.plot([],[],lw=l_width[index],color=plotcols[index])[0]\n",
    "    lines.append(lobj)\n",
    "    "
   ]
  },
  {
   "cell_type": "markdown",
   "metadata": {},
   "source": [
    "Define the initialization function, which plots the background of each frame:"
   ]
  },
  {
   "cell_type": "code",
   "execution_count": null,
   "metadata": {
    "tags": []
   },
   "outputs": [],
   "source": [
    "def init():\n",
    "    for line in lines:\n",
    "        line.set_data([],[])\n",
    "    return lines"
   ]
  },
  {
   "cell_type": "markdown",
   "metadata": {},
   "source": [
    "## Define rotating arrows\n",
    "\n",
    "We are defining rotating arrows through sine and cosine functions. The variation in the x direction through the cosine functions is only done for illustration purposes to nicely show the wipers and circles."
   ]
  },
  {
   "cell_type": "code",
   "execution_count": null,
   "metadata": {
    "tags": []
   },
   "outputs": [],
   "source": [
    "def arrow(start_point, radius, frequency, offset, i):\n",
    "    r = np.linspace(0, radius, 100)\n",
    "    x = start_point[0] + r * np.cos(frequency * i + offset)\n",
    "    y = start_point[1] + r * np.sin(frequency * i + offset)\n",
    "\n",
    "    return x, y"
   ]
  },
  {
   "cell_type": "markdown",
   "metadata": {},
   "source": [
    "Define the animation function, which is called for each new frame:"
   ]
  },
  {
   "cell_type": "code",
   "execution_count": null,
   "metadata": {
    "tags": []
   },
   "outputs": [],
   "source": [
    "# Add two list for the history of the tip of the last arrow\n",
    "x_hist = []\n",
    "y_hist = []\n",
    "\n",
    "x_drawn = []\n",
    "y_drawn = []\n",
    "\n",
    "x_org = []\n",
    "y_org = []\n",
    "\n",
    "num_harmonics = 3\n",
    "\n",
    "def animate(i):\n",
    "    # Define the Fourier sine coefficients\n",
    "    harmonics = []\n",
    "    for j in range(num_harmonics):\n",
    "        # Append: radius, frequency and offset\n",
    "        # You can comment the command for the square wave and uncomment the one for the sawtooth\n",
    "        # Square wave\n",
    "        harmonics.append([4/((2*j + 1) * np.pi), 2*j+1, 0.0])\n",
    "        \n",
    "        # Sawtooth\n",
    "        #harmonics.append([2*(-1)**(j+2)/((j+1) * np.pi), j+1, 0.0])\n",
    "\n",
    "    # Calculate the wipers and circles for the harmonics\n",
    "    wipers_x = []\n",
    "    wipers_y = []\n",
    "    circles_x = []\n",
    "    circles_y = []\n",
    "    phi = np.linspace(0, 3*np.pi, 100)\n",
    "    start = [0, 0]\n",
    "    for params in harmonics:    \n",
    "        x, y = arrow(start, params[0], 2 * np.pi*params[1]/50, params[2], i)\n",
    "        wipers_x = [*wipers_x, *x]\n",
    "        wipers_y = [*wipers_y, *y]\n",
    "        cir_x = start[0] + params[0] * np.cos(phi)\n",
    "        cir_y = start[1] + params[0] * np.sin(phi)\n",
    "        start = [x[-1], y[-1]]\n",
    "        circles_x.append([cir_x])\n",
    "        circles_y.append([cir_y])\n",
    "    \n",
    "    # Plot the wipers\n",
    "    lines[0].set_data(wipers_x, wipers_y)\n",
    "    \n",
    "    # Trace of the 2D shape\n",
    "    x_hist.append(start[0])\n",
    "    y_hist.append(start[1])\n",
    "    joined_x = [*x_hist[-1:-200:-1]] \n",
    "    joined_y = [*y_hist[-1:-200:-1]] \n",
    "    lines[1].set_data(joined_x, joined_y)\n",
    "    \n",
    "    # Connecting the wipers and projection\n",
    "    x_connect = np.linspace(start[0], 4, 100)\n",
    "    y_connect = start[1] * np.ones(100)\n",
    "    lines[2].set_data(x_connect, y_connect)\n",
    "    \n",
    "    # Projection onto the imaginary axis\n",
    "    x_drawn.append(3.95)\n",
    "    x_drawn[:] = [x + 0.05 for x in x_drawn]\n",
    "    y_drawn.append(start[1])\n",
    "    lines[3].set_data(x_drawn[:], y_drawn[:])\n",
    "\n",
    "    # Plot original function\n",
    "    # Hard-coded for the square wave and the given interval\n",
    "    x_org.append(3.95)\n",
    "    x_org[:] = [x + 0.05 for x in x_drawn]\n",
    "    if i % 51 <= 25:\n",
    "        tmp = 1\n",
    "    else:\n",
    "        tmp = -1\n",
    "    y_org.append(tmp)\n",
    "    lines[4].set_data(x_org[:], y_org[:])\n",
    "    \n",
    "    # Plot circles around the wipers\n",
    "    jj = 5\n",
    "    for x, y in zip(circles_x, circles_y):\n",
    "        lobj = ax1.plot([],[],lw=0.5,color=\"black\")[0]\n",
    "        lines.append(lobj)  \n",
    "        lines[jj].set_data(x, y)\n",
    "        jj += 1\n",
    "   \n",
    "    return lines"
   ]
  },
  {
   "cell_type": "markdown",
   "metadata": {},
   "source": [
    "Compile the animation. Setting blit=True will only re-draw the parts that have changed."
   ]
  },
  {
   "cell_type": "code",
   "execution_count": null,
   "metadata": {
    "tags": []
   },
   "outputs": [],
   "source": [
    "anim = animation.FuncAnimation(fig, animate, init_func=init,\n",
    "                               frames=100, interval=100, \n",
    "                               blit=True)"
   ]
  },
  {
   "cell_type": "markdown",
   "metadata": {},
   "source": [
    "## Displaying the Animation\n",
    "\n",
    "Now to create an interactive JavaScript widget using the to_jshtml method:"
   ]
  },
  {
   "cell_type": "code",
   "execution_count": null,
   "metadata": {
    "tags": []
   },
   "outputs": [],
   "source": [
    "# Inline animation\n",
    "HTML(anim.to_jshtml())"
   ]
  },
  {
   "cell_type": "code",
   "execution_count": null,
   "metadata": {},
   "outputs": [],
   "source": [
    "# Save the animation as a website\n",
    "Writer = animation.writers['html']\n",
    "writer = Writer(fps=60)\n",
    "anim.save('square_wave.html', writer=writer, dpi=150)"
   ]
  },
  {
   "cell_type": "code",
   "execution_count": null,
   "metadata": {},
   "outputs": [],
   "source": []
  }
 ],
 "metadata": {
  "@webio": {
   "lastCommId": null,
   "lastKernelId": null
  },
  "kernelspec": {
   "display_name": "Python 3 (ipykernel)",
   "language": "python",
   "name": "python3"
  },
  "language_info": {
   "codemirror_mode": {
    "name": "ipython",
    "version": 3
   },
   "file_extension": ".py",
   "mimetype": "text/x-python",
   "name": "python",
   "nbconvert_exporter": "python",
   "pygments_lexer": "ipython3",
   "version": "3.12.6"
  }
 },
 "nbformat": 4,
 "nbformat_minor": 4
}
