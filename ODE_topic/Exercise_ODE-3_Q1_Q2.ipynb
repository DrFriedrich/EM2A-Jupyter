{
 "cells": [
  {
   "cell_type": "markdown",
   "id": "97809a78-9a54-4c24-ae19-21df552919e9",
   "metadata": {},
   "source": [
    "# Questions 1 and 2 from Exercise ODE 3 in EM2A\n",
    "---"
   ]
  },
  {
   "cell_type": "markdown",
   "id": "63dd58d0-78ad-46f3-be75-d5dc7e5a2985",
   "metadata": {},
   "source": [
    "## Question 1"
   ]
  },
  {
   "cell_type": "markdown",
   "id": "db9d9688-df61-44b2-a7bc-caf1d820e9ce",
   "metadata": {},
   "source": [
    "### Sketch the phase portrait by plotting $\\dot{x}(t)$ against $x(t)$.\n",
    "\n",
    "We have,\n",
    "$$x(t)=1.0675e^{-t}+0.1825e^{2t} - 0.0833\\left(3e^t + 2te^{-t}\\right)$$\n",
    "$$\\dot{x}(t)=-1.0675  {e^{-t}}+0.365  {e^{2  t}} - \\frac{3 {e^{t}} + 2 {e^{-t}} - 2 t {e^{-t}}}{12}$$"
   ]
  },
  {
   "cell_type": "code",
   "execution_count": null,
   "id": "309f72f0-551d-4034-8c4c-5412abb7835a",
   "metadata": {},
   "outputs": [],
   "source": [
    "import numpy as np\n",
    "def x(t):\n",
    "    return 1.0675 * np.exp(-t) + 0.1825*np.exp(2*t) - 0.0833*(3*np.exp(t) + 2*t*np.exp(-t))\n",
    "\n",
    "def xdot(t):\n",
    "    return -1.0675*np.exp(-t) + 0.365*np.exp(2*t) - (3*np.exp(t) + 2*np.exp(-t) - 2*t*np.exp(-t))/12"
   ]
  },
  {
   "cell_type": "code",
   "execution_count": null,
   "id": "6b7c6c41-2414-430b-9655-3e065ca03c5e",
   "metadata": {},
   "outputs": [],
   "source": [
    "import matplotlib.pyplot as plt\n",
    "\n",
    "t = np.linspace(0, 2)\n",
    "plt.plot(x(t), xdot(t))\n",
    "plt.xlabel('x(t)')\n",
    "plt.ylabel(\"$x'(t)$\")\n",
    "plt.show()"
   ]
  },
  {
   "cell_type": "markdown",
   "id": "8a22b087-859a-483d-aec1-98237d1ffedd",
   "metadata": {},
   "source": [
    "Check the boundary values at $t=0$ and $t=1$"
   ]
  },
  {
   "cell_type": "code",
   "execution_count": null,
   "id": "278949f3-f725-4e6a-a187-2b9bb75d9d1b",
   "metadata": {},
   "outputs": [],
   "source": [
    "times = [0, 1]\n",
    "for t in times:\n",
    "    print(\"x({}) = {}\\nx'({}) = {}\".format(t, x(t), t, xdot(t)))"
   ]
  },
  {
   "cell_type": "markdown",
   "id": "5915a17b-4318-42bc-a908-c3c9321a9585",
   "metadata": {},
   "source": [
    "## Question 2"
   ]
  },
  {
   "cell_type": "code",
   "execution_count": null,
   "id": "cfea9e98-8727-4453-b803-dca06889a58b",
   "metadata": {},
   "outputs": [],
   "source": [
    "import numpy as np\n",
    "t = np.linspace(0, 2*np.pi, 1000)\n",
    "\n",
    "x = 16/75 * np.sin(3*t) + 4/25 * np.cos(3*t)\n",
    "x2 = 4/15*np.sin(3*t + 0.6435011)\n",
    "y = -12/25 * np.sin(3*t) + 16/25*np.cos(3*t)"
   ]
  },
  {
   "cell_type": "code",
   "execution_count": null,
   "id": "51a8ae34-8932-4a2f-8a21-a93938109f3c",
   "metadata": {},
   "outputs": [],
   "source": [
    "import matplotlib.pyplot as plt\n",
    "plt.scatter(x, y)\n",
    "plt.scatter(x2, y)\n",
    "plt.show()"
   ]
  },
  {
   "cell_type": "code",
   "execution_count": null,
   "id": "02637597-e619-4b55-aec5-2e5e169de39c",
   "metadata": {},
   "outputs": [],
   "source": []
  }
 ],
 "metadata": {
  "kernelspec": {
   "display_name": "Python 3 (ipykernel)",
   "language": "python",
   "name": "python3"
  },
  "language_info": {
   "codemirror_mode": {
    "name": "ipython",
    "version": 3
   },
   "file_extension": ".py",
   "mimetype": "text/x-python",
   "name": "python",
   "nbconvert_exporter": "python",
   "pygments_lexer": "ipython3",
   "version": "3.12.11"
  }
 },
 "nbformat": 4,
 "nbformat_minor": 5
}
