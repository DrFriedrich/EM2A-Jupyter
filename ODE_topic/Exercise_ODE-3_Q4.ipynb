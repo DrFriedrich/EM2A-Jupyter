{
 "cells": [
  {
   "cell_type": "markdown",
   "metadata": {},
   "source": [
    "# Question 4 from Exercise ODE 3 in EM2A"
   ]
  },
  {
   "cell_type": "markdown",
   "metadata": {},
   "source": [
    "Vortex shedding behind a flagpole causes the flagpole to oscillate. The motion of the top of the flagpole can be modelled using the following linear differential equation,\n",
    "$$m\\frac{d^2x}{dt^2}+\\frac{3EI}{L^3}\\frac{dx}{dt}+\\frac{1}{2\\pi}\\sqrt{\\frac{3EI}{mL^3}}x=W_0\\cos\\omega t,$$\n",
    "where $x$ is the displacement of the top of the pole, $E$ is the Young's modulus, $I$ is the moment of inertia, $m$ is the mass of the pole, $L$ is the length of the pole,$W_0$ is the vortex induced drag force and $\\omega$ is the shedding frequency.\n",
    "\n",
    "The 10m tall, flag pole has a uniform circular cross section with a diameter of 0.1m and is made from steel. Consequently, it has a Youngs modulus of $E=2.1\\times10^{11}$, a density of $\\rho=7850\\mathrm{ kgm}^{-3}$ and a moment of inertia of $$I=\\frac{\\pi d^4}{64}.$$"
   ]
  },
  {
   "cell_type": "code",
   "execution_count": null,
   "metadata": {},
   "outputs": [],
   "source": [
    "# Imports\n",
    "import numpy as np\n",
    "from IPython.display import Markdown as md"
   ]
  },
  {
   "cell_type": "markdown",
   "metadata": {},
   "source": [
    "## Part a)\n",
    "\n",
    "Calculate the mass, spring and damping coefficients in the differential equation to 3 significant figures.\n",
    "Given that the magnitude of the dynamic drag is $W_0=235$N and the shedding frequency is 3 Hz, write down the ODE with constant, numerical, coefficients."
   ]
  },
  {
   "cell_type": "code",
   "execution_count": null,
   "metadata": {},
   "outputs": [],
   "source": [
    "# Parameters with values\n",
    "E = 2.1e11 # Young's modulus\n",
    "rho = 7850 # Density [kg m^{-3}]\n",
    "L = 10 # Length [m]\n",
    "d = 0.1 # Diameter[m]\n",
    "omega = 0.333 # Shedding frequency [radians/s]\n",
    "W0 = 235 # Drag force [N]"
   ]
  },
  {
   "cell_type": "markdown",
   "metadata": {},
   "source": [
    "The mass of the pole is $$m = \\rho\\pi r^2 L=7850\\times0.05^2\\times10=616\\mbox{kg (to 3 s.f)}$$\n",
    "\n",
    "The moment of inertia is\n",
    "$$I=\\frac{\\pi d^4}{64}=4.91\\times10^{-6}\\implies EI=1.03\\times10^6. $$\n",
    "\n",
    "The spring coefficient is \n",
    "$$k=\\frac{1}{2\\pi}\\sqrt{\\frac{3EI}{mL^3}}=\\frac{1}{2\\pi}\\sqrt{\\frac{3EI}{mL^3}}=\\frac{1}{2\\pi}\\sqrt{\\frac{3.09\\times10^6}{6.16\\times10^5}}=\\frac{2.24}{2\\pi}=0.356 \\mbox{ (to 3 s.f).}$$\n",
    "The damping coefficient is \n",
    "$$\\lambda=\\frac{3EI}{L^3}=\\frac{3.09\\times10^6}{1000}=3.09\\times10^3 \\mbox{ (to 3 s.f)}.$$\n",
    "So the ODE is\n",
    "$$616\\frac{d^2x}{dt^2}+3090\\frac{dx}{dt}+0.356x=235\\cos(0.333t).$$"
   ]
  },
  {
   "cell_type": "code",
   "execution_count": null,
   "metadata": {},
   "outputs": [],
   "source": [
    "m = rho * L * ((np.pi * d**2)/4)\n",
    "print(f'The mass of the pole is {m:.0f}')"
   ]
  },
  {
   "cell_type": "code",
   "execution_count": null,
   "metadata": {},
   "outputs": [],
   "source": [
    "I = (np.pi*(d**4))/64\n",
    "z = (3*E*I)/(L**3) # z for zeta\n",
    "print(f'The damping coefficient is {z:4.0f}')"
   ]
  },
  {
   "cell_type": "code",
   "execution_count": null,
   "metadata": {},
   "outputs": [],
   "source": [
    "k = (1/(2*np.pi))*((3*E*I)/(m*L**3))**.5\n",
    "print(f'The spring coefficient is {k:.3f}')"
   ]
  },
  {
   "cell_type": "markdown",
   "metadata": {},
   "source": [
    "## Part b)\n",
    "\n",
    "Rewrite the governing equation as a system of first order  ODEs suitable for solution using an appropriate numerical method."
   ]
  },
  {
   "cell_type": "markdown",
   "metadata": {},
   "source": [
    "\n",
    "$$ m\\frac{d^2x}{dt^2} + \\zeta\\frac{dx}{dt} + k x = W_0cos\\omega t$$\n",
    "\n",
    "$$ 617\\frac{d^2x}{dt^2} + 3090\\frac{dx}{dt} + 0.356 x = 235 \\cos 6\\pi t$$\n",
    "\n"
   ]
  },
  {
   "cell_type": "markdown",
   "metadata": {},
   "source": [
    "Let $ y = \\frac{dx}{dt}$. This gives us:\n",
    "\n",
    "$$ \\frac{dx}{dt} = y $$\n",
    "\n",
    "$$ m\\frac{dy}{dt} + \\zeta y + k x = W_0cos\\omega t$$\n",
    "\n",
    "\n",
    "Let's rearrange the second equation to get:\n",
    "\n",
    "\n",
    "$$ \\frac{dx}{dt} = y $$\n",
    "\n",
    "$$ \\frac{dy}{dt} = \\frac{1}{m}(W_0cos\\omega t - k x - \\zeta y)$$\n",
    "\n",
    "\n"
   ]
  },
  {
   "cell_type": "markdown",
   "metadata": {},
   "source": [
    "## Part c)\n",
    "\n",
    "Given the initial conditions, $x(0)=1\\,\\mbox{m}$ and $\\dot{x}(0)=\\,0\\mbox{ms}^{-1}$, solve the differential equation using the classical 4th order, 5 stage, Runge-Kutta method.  By presenting the results as a phase portrait comment on the oscillatory behaviour and safety of the flagpole."
   ]
  },
  {
   "cell_type": "code",
   "execution_count": null,
   "metadata": {},
   "outputs": [],
   "source": [
    "from scipy.integrate import solve_ivp # Getting solver from scipy\n",
    "import matplotlib.pyplot as plt # Plotting\n",
    "\n",
    "tend = 500\n",
    "# First, write a function that takes in x,y and returns dx/dt, dy/dt\n",
    "# This is the form used for solvers.\n",
    "def my_func(t, X):\n",
    "    x, y = X\n",
    "    \n",
    "    dxdt = y\n",
    "    dydt = (1/m)*(W0 * np.cos(omega*t) - k * x - z * y)\n",
    "    return [dxdt, dydt]\n",
    "\n",
    "sol = solve_ivp(my_func,  # function\n",
    "                [0.0,tend], # t_start and t_stop, 1 minute.\n",
    "                [1,0], # initial conditions\n",
    "                method='RK45', # choose method\n",
    "                dense_output=True) # save output\n"
   ]
  },
  {
   "cell_type": "code",
   "execution_count": null,
   "metadata": {
    "scrolled": true
   },
   "outputs": [],
   "source": [
    "# set the times for output\n",
    "t=np.linspace(0,tend,1000)\n",
    "thesol =sol.sol(t) # output points\n",
    "plt.plot(thesol[0], thesol[1])\n",
    "plt.xlabel('Displacement'); plt.ylabel('Velocity');\n",
    "plt.title('Phase portrait')\n",
    "plt.savefig('ODE_tutorial_3_phase_portrait.png')"
   ]
  },
  {
   "cell_type": "code",
   "execution_count": null,
   "metadata": {},
   "outputs": [],
   "source": [
    "plt.plot(t, thesol.T)\n",
    "plt.legend(('x',\"x'\"), loc='upper left')\n",
    "plt.xlabel('t [s]'); plt.ylabel('x');\n",
    "plt.title(\"Plot of x and x' against t\")"
   ]
  },
  {
   "cell_type": "code",
   "execution_count": null,
   "metadata": {},
   "outputs": [],
   "source": []
  }
 ],
 "metadata": {
  "kernelspec": {
   "display_name": "Python 3 (ipykernel)",
   "language": "python",
   "name": "python3"
  },
  "language_info": {
   "codemirror_mode": {
    "name": "ipython",
    "version": 3
   },
   "file_extension": ".py",
   "mimetype": "text/x-python",
   "name": "python",
   "nbconvert_exporter": "python",
   "pygments_lexer": "ipython3",
   "version": "3.9.7"
  }
 },
 "nbformat": 4,
 "nbformat_minor": 4
}
