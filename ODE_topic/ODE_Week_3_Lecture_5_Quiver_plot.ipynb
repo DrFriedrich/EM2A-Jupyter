{
 "cells": [
  {
   "cell_type": "markdown",
   "id": "9a880e65-f879-4d94-b04a-ca24122fb45a",
   "metadata": {},
   "source": [
    "# Quiver plot of the undamped pendulum problem\n",
    "\n",
    "We consider the undamped pendulum problem without a driving force which has the governing equation\n",
    "$$\\frac{\\mathrm{d}^2x}{\\mathrm{d}t^2}=-\\sin x$$\n",
    "\n",
    "This can be transformed into the first order system\n",
    "\\begin{eqnarray*}\n",
    "\\frac{\\mathrm{d}x}{\\mathrm{d}t}&=&y\\\\\n",
    "\\frac{\\mathrm{d}y}{\\mathrm{d}t}&=&-\\sin x\n",
    "\\end{eqnarray*}\n",
    "\n",
    "We are going to use the quiver plot and we are going to overlay it with solutions for different starting points."
   ]
  },
  {
   "cell_type": "markdown",
   "id": "291e2388-534f-4193-a7c4-44680e8bf949",
   "metadata": {},
   "source": [
    "Import packages and define the right hand side of the first order system."
   ]
  },
  {
   "cell_type": "code",
   "execution_count": null,
   "id": "782e29c3-cafa-4b20-a7b0-61bfc3cf5523",
   "metadata": {
    "tags": []
   },
   "outputs": [],
   "source": [
    "from scipy.integrate import solve_ivp\n",
    "import matplotlib.pyplot as plt\n",
    "import numpy as np\n",
    "\n",
    "def f(t,x):\n",
    "    X,Y = x\n",
    "    return [Y, -np.sin(X)]"
   ]
  },
  {
   "cell_type": "markdown",
   "id": "8ba01a74-e787-4d51-a461-5caf04961061",
   "metadata": {},
   "source": [
    "Define a meshgrid in the x and y direction and the values of the function f, i.e. the right hand side of the first order system, at these grid points."
   ]
  },
  {
   "cell_type": "code",
   "execution_count": null,
   "id": "67d65e15-3d11-46df-8df7-ec873ce7da7a",
   "metadata": {},
   "outputs": [],
   "source": [
    "X, Y = np.meshgrid(np.arange(-3*np.pi, 3*np.pi, .5),\n",
    "                   np.arange(-2.5,2.5,0.25))\n",
    "Xdot = Y; Ydot = -np.sin(X)"
   ]
  },
  {
   "cell_type": "markdown",
   "id": "71ef0b78-977d-4e6e-9e40-2b7c55027873",
   "metadata": {},
   "source": [
    "Plot the quiver plot as well as the solution for different starting points."
   ]
  },
  {
   "cell_type": "code",
   "execution_count": null,
   "id": "9d8b1bc1-0994-411e-82d6-04734041318f",
   "metadata": {
    "tags": []
   },
   "outputs": [],
   "source": [
    "plt.quiver(X, Y, Xdot, Ydot, units='width')\n",
    "plt.xlabel('Displacement [rad]')\n",
    "plt.ylabel(r'Velocity [rad s$^{-1}$]')\n",
    "plt.savefig('Quiver.pdf')\n",
    "\n",
    "# Now add the solution for different starting points\n",
    "for i in range(14):\n",
    "    x0 = i/5.0\n",
    "    sol = solve_ivp(f,  # function\n",
    "                [0.0,40.0], # t_start ad t_stop\n",
    "                [0.0,x0], # initial conditions\n",
    "                method='RK45', # choose method\n",
    "                dense_output=True) # save output\n",
    "    t=np.linspace(0,40,400)\n",
    "    z=sol.sol(t) # output points\n",
    "    plt.plot(z[0],z[1])\n",
    "\n",
    "plt.xlim(-3*np.pi,3*np.pi)\n",
    "plt.savefig('Quiver-solution.pdf')"
   ]
  },
  {
   "cell_type": "code",
   "execution_count": null,
   "id": "d094d581-713d-4d34-a22f-e248c7ee2b60",
   "metadata": {},
   "outputs": [],
   "source": []
  }
 ],
 "metadata": {
  "kernelspec": {
   "display_name": "Python 3 (ipykernel)",
   "language": "python",
   "name": "python3"
  },
  "language_info": {
   "codemirror_mode": {
    "name": "ipython",
    "version": 3
   },
   "file_extension": ".py",
   "mimetype": "text/x-python",
   "name": "python",
   "nbconvert_exporter": "python",
   "pygments_lexer": "ipython3",
   "version": "3.10.13"
  }
 },
 "nbformat": 4,
 "nbformat_minor": 5
}
