{
 "cells": [
  {
   "cell_type": "markdown",
   "id": "773be3e8-ad81-4b70-a6c1-6d4b8bdd3b3d",
   "metadata": {},
   "source": [
    "# Van der Pol Oscillator\n",
    "\n",
    "The Van der Pol oscillator has the governing equation\n",
    "$$\\frac{\\mathrm{d}^2x}{\\mathrm{d}t^2}+\\mu(x^2-1)\\frac{\\mathrm{d}x}{\\mathrm{d}t}+\\lambda x=0.$$\n",
    "\n",
    "This is a 2nd order, homogenous, non-linear differential equation with no analytical solution. The behaviour of the solution depends on the choice of $\\mu$ and $\\lambda$, and the initial conditions, $x(0)$ and $\\dot x(0)$. We solve this system of differential equations with the 5-stage, 4th order Runge-Kutta solver. \n",
    "\n",
    "We transform this 2nd order differential equation into a system of 1st order differential equations. By substituting $y=\\frac{\\mathrm{d}x}{\\mathrm{d}t}$ we get\n",
    "$$\\begin{array}{rl}\n",
    "\\frac{\\mathrm{d}x}{\\mathrm{d}t}&=y\\\\\n",
    "\\frac{\\mathrm{d}y}{\\mathrm{d}t}&=-\\mu(x^2-1)y-\\lambda x\n",
    "\\end{array}$$\n",
    "\n",
    "An obvious question is what effects do $\\mu$ and $\\lambda$ have?"
   ]
  },
  {
   "cell_type": "markdown",
   "id": "2b8b2333-aa09-4fb0-b4d9-db3d2f8f6daa",
   "metadata": {},
   "source": [
    "Import packages and define the right hand side of the differential equation system."
   ]
  },
  {
   "cell_type": "code",
   "execution_count": null,
   "id": "15abad83-8ec1-4ebe-9df9-26f754701d98",
   "metadata": {
    "tags": []
   },
   "outputs": [],
   "source": [
    "from scipy.integrate import solve_ivp\n",
    "import numpy as np\n",
    "import matplotlib.pyplot as plt\n",
    "\"\"\" Van der Pol Oscillator\n",
    "\n",
    "Integrated using the solve_ivp integrator.  The parameters of the \n",
    "VDP oscilator lambda and mu are passed as arguments by the\n",
    "solve_ivp function.  \n",
    "\"\"\" \n",
    "\n",
    "# function defining the vdp Oscillator\n",
    "def f(t,x,mu,lamda):\n",
    "    X, Y = x # split the array\n",
    "    return [Y,-mu*(X*X-1)*Y-lamda*X]"
   ]
  },
  {
   "cell_type": "markdown",
   "id": "c83e3304-5c19-4fbb-ac11-e6af9dc9f5cb",
   "metadata": {},
   "source": [
    "Define the parameters. It should be noted that lambda is a keyword in Python so the parameter is called lamda."
   ]
  },
  {
   "cell_type": "code",
   "execution_count": null,
   "id": "1193d272-0df8-4e7f-b451-ecf1718d1765",
   "metadata": {
    "tags": []
   },
   "outputs": [],
   "source": [
    "lamda = 40; \n",
    "mu = 3;"
   ]
  },
  {
   "cell_type": "code",
   "execution_count": null,
   "id": "f5be37be-5e87-40b3-b184-bb9f85eee50e",
   "metadata": {
    "tags": []
   },
   "outputs": [],
   "source": [
    "# Call the integrator\n",
    "sol = solve_ivp(f,  # function\n",
    "                [0.0,10.0], # t_start ad t_stop\n",
    "                [0.05,0.0], # initial conditions\n",
    "                args=(mu,lamda), # passed to f\n",
    "                method='RK45', # choose method\n",
    "                dense_output=True) # save output\n",
    "\n",
    "# set the times for output\n",
    "t=np.linspace(0,10,500)\n",
    "x=sol.sol(t) # output points"
   ]
  },
  {
   "cell_type": "code",
   "execution_count": null,
   "id": "2830dd72-7daa-4f9a-89fd-2701c23f5698",
   "metadata": {
    "tags": []
   },
   "outputs": [],
   "source": [
    "# plot the solutions against t\n",
    "fig, axs=plt.subplots(2, sharex=True)\n",
    "fig.suptitle(r'Van der Pol oscillator, $\\lambda=%d\\ \\mu=%d.$' % (lamda,mu))\n",
    "axs[0].plot(t, x[0]); plt.setp(axs[0], ylabel=r'$x$')\n",
    "axs[1].plot(t, x[1], 'r');  plt.setp(axs[1], ylabel=r'$\\frac{dx}{dt}$')\n",
    "plt.setp(axs[1], xlabel='t [s]')\n",
    "filestem = 'VDP-time-%d-%d' % (lamda,mu)\n",
    "plt.savefig('%s.pdf' % filestem)\n",
    "\n",
    "# plot the phase portrait\n",
    "plt.figure()\n",
    "plt.plot(x[0],x[1])\n",
    "plt.xlabel(r'$x(t)$'); plt.ylabel(r'$\\frac{dx}{dt}$');\n",
    "filestem = 'VDP-phase-%d-%d' % (lamda,mu)\n",
    "plt.savefig('%s.pdf' % filestem)"
   ]
  },
  {
   "cell_type": "code",
   "execution_count": null,
   "id": "19f7eff2-1c0a-4129-8e47-f4926e092011",
   "metadata": {},
   "outputs": [],
   "source": []
  }
 ],
 "metadata": {
  "kernelspec": {
   "display_name": "Python 3 (ipykernel)",
   "language": "python",
   "name": "python3"
  },
  "language_info": {
   "codemirror_mode": {
    "name": "ipython",
    "version": 3
   },
   "file_extension": ".py",
   "mimetype": "text/x-python",
   "name": "python",
   "nbconvert_exporter": "python",
   "pygments_lexer": "ipython3",
   "version": "3.10.13"
  }
 },
 "nbformat": 4,
 "nbformat_minor": 5
}
